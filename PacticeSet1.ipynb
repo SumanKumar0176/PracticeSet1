{
 "cells": [
  {
   "cell_type": "code",
   "execution_count": null,
   "id": "149b3fc9-ccdf-4e19-99c0-4126bd4b0a2c",
   "metadata": {},
   "outputs": [],
   "source": [
    "Q1. Write a Python program that defines a function called \"add_numbers\" that takes two arguments (i.e.,\n",
    "numbers) and returns their sum. Within the function, add the two numbers together and return the result\n",
    "using the return statement. Call the function with the values 5 and 6, and print out the returned result.\n",
    "This will result in the addition of 5 and 6, with the output of the program being the sum of these two\n",
    "numbers."
   ]
  },
  {
   "cell_type": "code",
   "execution_count": 1,
   "id": "c44b81f9-21e1-4ba2-b80f-16d144490519",
   "metadata": {},
   "outputs": [
    {
     "name": "stdout",
     "output_type": "stream",
     "text": [
      "11\n"
     ]
    }
   ],
   "source": [
    "def add_numbers(num1, num2):\n",
    "    return num1 + num2\n",
    "\n",
    "result = add_numbers(5, 6)\n",
    "print(result)"
   ]
  },
  {
   "cell_type": "code",
   "execution_count": null,
   "id": "829f8c1e-590a-4969-b6bd-9e6af0bb6ea6",
   "metadata": {},
   "outputs": [],
   "source": [
    "Q2. Write a Python program that calculates the square root of a given number using a built-in function.\n",
    "Specifically, the program should take an integer or float input from the user, calculate its square root\n",
    "using the 'sqrt()' function from the 'math' module, and print out the result to the user. As an example,\n",
    "calculate the square root of the number 625 using this program, which should output the value of 25."
   ]
  },
  {
   "cell_type": "code",
   "execution_count": 2,
   "id": "e530df4a-4fac-4e6c-a9eb-18b83e16f0b2",
   "metadata": {},
   "outputs": [
    {
     "name": "stdin",
     "output_type": "stream",
     "text": [
      "Enter a number:  625\n"
     ]
    },
    {
     "name": "stdout",
     "output_type": "stream",
     "text": [
      "The square root of 625.0 is 25.0\n"
     ]
    }
   ],
   "source": [
    "import math\n",
    "\n",
    "number = float(input(\"Enter a number: \"))\n",
    "sqrt = math.sqrt(number)\n",
    "\n",
    "print(\"The square root of\", number, \"is\", sqrt)"
   ]
  },
  {
   "cell_type": "code",
   "execution_count": null,
   "id": "ac441fcd-3fa8-4436-b2e3-eaaa491375a8",
   "metadata": {},
   "outputs": [],
   "source": [
    "Q3.Write a program that prints all prime numbers between 0 to 50."
   ]
  },
  {
   "cell_type": "code",
   "execution_count": 3,
   "id": "ad5e74b0-4388-4610-9bc0-1279bb1104e4",
   "metadata": {},
   "outputs": [
    {
     "name": "stdout",
     "output_type": "stream",
     "text": [
      "2\n",
      "3\n",
      "5\n",
      "7\n",
      "11\n",
      "13\n",
      "17\n",
      "19\n",
      "23\n",
      "29\n",
      "31\n",
      "37\n",
      "41\n",
      "43\n",
      "47\n"
     ]
    }
   ],
   "source": [
    "for num in range(2, 51):\n",
    "    # check if num is prime\n",
    "    for i in range(2, num):\n",
    "        if (num % i) == 0:\n",
    "            break\n",
    "    else:\n",
    "        print(num)\n"
   ]
  },
  {
   "cell_type": "code",
   "execution_count": null,
   "id": "1ab1e2e2-008c-4ee9-9948-2981d35ee98a",
   "metadata": {},
   "outputs": [],
   "source": [
    "Q4.How can we swap the values of three variables (let's say a, b, and c) without using a fourth variable?\n",
    "For example, if we have a=5, b=8, and c=9, how can we obtain a=9, b=5, and c=8? The challenge is to\n",
    "perform this operation without using an additional variable to store any of the values during the\n",
    "swapping process."
   ]
  },
  {
   "cell_type": "code",
   "execution_count": 4,
   "id": "0de7da65-8731-4db9-b2f6-f78c0cfe8ece",
   "metadata": {},
   "outputs": [
    {
     "name": "stdout",
     "output_type": "stream",
     "text": [
      "a = 9\n",
      "b = 5\n",
      "c = 8\n"
     ]
    }
   ],
   "source": [
    "a = 5\n",
    "b = 8\n",
    "c = 9\n",
    "\n",
    "a = a + b + c  \n",
    "b = a - b - c  \n",
    "c = a - b - c  \n",
    "a = a - b - c  \n",
    "\n",
    "print(\"a =\", a)\n",
    "print(\"b =\", b)\n",
    "print(\"c =\", c)"
   ]
  },
  {
   "cell_type": "code",
   "execution_count": null,
   "id": "2fa65143-4783-41af-93fd-52dc72a77055",
   "metadata": {},
   "outputs": [],
   "source": [
    "Q5. Can you write a program that determines the nature of a given number (in this case, 87) as being\n",
    "positive, negative, or zero? The program should be designed to take the number as input and perform the\n",
    "necessary calculations to determine if the number is positive (i.e., greater than zero), negative (i.e., less\n",
    "than zero), or zero (i.e., equal to zero). The output of the program should indicate which of these three\n",
    "categories the given number falls into."
   ]
  },
  {
   "cell_type": "code",
   "execution_count": 5,
   "id": "e28ddf5b-56d1-4b65-b0be-b1b378c708ee",
   "metadata": {},
   "outputs": [
    {
     "name": "stdout",
     "output_type": "stream",
     "text": [
      "The number is positive.\n"
     ]
    }
   ],
   "source": [
    "num = 87\n",
    "\n",
    "if num > 0:\n",
    "    print(\"The number is positive.\")\n",
    "elif num < 0:\n",
    "    print(\"The number is negative.\")\n",
    "else:\n",
    "    print(\"The number is zero.\")"
   ]
  },
  {
   "cell_type": "code",
   "execution_count": null,
   "id": "4d94a532-e335-48da-8917-916ed270acbb",
   "metadata": {},
   "outputs": [],
   "source": [
    "Q6. How can you create a program that determines whether a given number (in this case, 98) is even or\n",
    "odd? The program should be designed to take the number as input and perform the necessary\n",
    "calculations to determine whether it is divisible by two. If the number is divisible by two without leaving a\n",
    "remainder, it is an even number, and if there is a remainder, it is an odd number. The output of the\n",
    "program should indicate whether the given number is even or odd."
   ]
  },
  {
   "cell_type": "code",
   "execution_count": 6,
   "id": "aa0799b9-9fc1-49ff-bde9-4830707e1598",
   "metadata": {},
   "outputs": [
    {
     "name": "stdout",
     "output_type": "stream",
     "text": [
      "The number is even.\n"
     ]
    }
   ],
   "source": [
    "num = 98\n",
    "\n",
    "if num % 2 == 0:\n",
    "    print(\"The number is even.\")\n",
    "else:\n",
    "    print(\"The number is odd.\")"
   ]
  },
  {
   "cell_type": "code",
   "execution_count": null,
   "id": "b1bdc907-fa09-4317-9971-d84a9278e6e6",
   "metadata": {},
   "outputs": [],
   "source": [
    "Q7.Write a program for sum of digits.the digits are 76543 and the output should be 25."
   ]
  },
  {
   "cell_type": "code",
   "execution_count": 7,
   "id": "92eeea6b-16a6-4cd6-bd91-96b98892bfe6",
   "metadata": {},
   "outputs": [
    {
     "name": "stdout",
     "output_type": "stream",
     "text": [
      "The sum of digits in the number is: 25\n"
     ]
    }
   ],
   "source": [
    "num = 76543\n",
    "digits = [int(d) for d in str(num)]\n",
    "sum_of_digits = sum(digits)\n",
    "\n",
    "print(\"The sum of digits in the number is:\", sum_of_digits)\n"
   ]
  },
  {
   "cell_type": "code",
   "execution_count": null,
   "id": "6ac5af44-c967-47cb-8cc3-b8c773ad23a7",
   "metadata": {},
   "outputs": [],
   "source": [
    "Q8.Write a program for reversing the given number 5436 and the output should be 6345."
   ]
  },
  {
   "cell_type": "code",
   "execution_count": 8,
   "id": "b52d120d-8323-4d23-9aa7-d775e87719e4",
   "metadata": {},
   "outputs": [
    {
     "name": "stdout",
     "output_type": "stream",
     "text": [
      "The reverse of 5436 is 6345\n"
     ]
    }
   ],
   "source": [
    "number = 5436\n",
    "reverse_number = int(str(number)[::-1])\n",
    "\n",
    "print(\"The reverse of\", number, \"is\", reverse_number)"
   ]
  },
  {
   "cell_type": "code",
   "execution_count": null,
   "id": "be04d808-873e-4c44-b327-71145d6dc10c",
   "metadata": {},
   "outputs": [],
   "source": [
    "Q9.Write a program to check if a given number 371 is an Armstrong number?"
   ]
  },
  {
   "cell_type": "code",
   "execution_count": 9,
   "id": "d3be439f-2200-41fe-a3f4-6adb01c6e313",
   "metadata": {},
   "outputs": [
    {
     "name": "stdout",
     "output_type": "stream",
     "text": [
      "371 is an Armstrong number\n"
     ]
    }
   ],
   "source": [
    "number = 371\n",
    "string_num = str(number)\n",
    "n = len(string_num)\n",
    "sum = 0\n",
    "\n",
    "for digit in string_num:\n",
    "    sum += int(digit) ** n\n",
    "\n",
    "if sum == number:\n",
    "    print(number, \"is an Armstrong number\")\n",
    "else:\n",
    "    print(number, \"is not an Armstrong number\")\n"
   ]
  },
  {
   "cell_type": "code",
   "execution_count": null,
   "id": "9d715840-388f-4fef-8484-6fe88e5b731a",
   "metadata": {},
   "outputs": [],
   "source": [
    "Q10.Write a program the given year is 1996, a leap year."
   ]
  },
  {
   "cell_type": "code",
   "execution_count": 10,
   "id": "acf8f9db-b661-488c-9b06-37e503220230",
   "metadata": {},
   "outputs": [
    {
     "name": "stdout",
     "output_type": "stream",
     "text": [
      "1996 is a leap year\n"
     ]
    }
   ],
   "source": [
    "year = 1996\n",
    "\n",
    "if (year % 4 == 0 and year % 100 != 0) or (year % 400 == 0):\n",
    "    print(year, \"is a leap year\")\n",
    "else:\n",
    "    print(year, \"is not a leap year\")"
   ]
  },
  {
   "cell_type": "code",
   "execution_count": null,
   "id": "d42462a9-a334-4d1a-a34e-1081629d7829",
   "metadata": {},
   "outputs": [],
   "source": []
  }
 ],
 "metadata": {
  "kernelspec": {
   "display_name": "Python 3 (ipykernel)",
   "language": "python",
   "name": "python3"
  },
  "language_info": {
   "codemirror_mode": {
    "name": "ipython",
    "version": 3
   },
   "file_extension": ".py",
   "mimetype": "text/x-python",
   "name": "python",
   "nbconvert_exporter": "python",
   "pygments_lexer": "ipython3",
   "version": "3.10.8"
  }
 },
 "nbformat": 4,
 "nbformat_minor": 5
}
